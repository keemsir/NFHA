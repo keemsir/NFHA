{
 "cells": [
  {
   "cell_type": "code",
   "execution_count": 4,
   "metadata": {},
   "outputs": [],
   "source": [
    "import pandas as pd\n",
    "import numpy as np\n",
    "import datetime\n",
    "\n",
    "import tensorflow as tf\n",
    "from tensorflow.keras.models import Sequential\n",
    "from tensorflow.keras.layers import Conv1D, MaxPooling1D, Flatten, Dense, Dropout, LSTM, GRU\n",
    "from tensorflow.keras.callbacks import TensorBoard\n",
    "\n",
    "from sklearn.preprocessing import StandardScaler\n",
    "from sklearn.model_selection import train_test_split\n",
    "from sklearn.metrics import mean_absolute_error, mean_squared_error, r2_score\n"
   ]
  },
  {
   "attachments": {},
   "cell_type": "markdown",
   "metadata": {},
   "source": [
    "# Dataloader"
   ]
  },
  {
   "cell_type": "code",
   "execution_count": 3,
   "metadata": {},
   "outputs": [],
   "source": [
    "data = np.genfromtxt(\"./oneD_power.csv\", delimiter=\",\", skip_header=1)\n",
    "\n",
    "X = data[:, :-1]\n",
    "# X = data[:, :-1]\n",
    "y = data[:, -1]\n",
    "\n",
    "\n",
    "scaler = StandardScaler()\n",
    "scaler2 = StandardScaler()\n",
    "\n",
    "X_scaled = scaler.fit_transform(X)\n",
    "y_scaled = scaler2.fit_transform(y.reshape(-1,1))\n",
    "\n",
    "X_train, X_test, y_train, y_test = train_test_split(X_scaled, y_scaled, test_size=0.2, random_state=42)\n",
    "\n",
    "# X_train_scaled = scaler.fit_transform(X_train)\n",
    "# X_test_scaled = scaler.fit_transform(X_test)\n",
    "\n",
    "\n",
    "X_train = X_train.reshape(X_train.shape[0], X_train.shape[1], 1)\n",
    "X_test = X_test.reshape(X_test.shape[0], X_test.shape[1], 1)\n",
    "\n",
    "\n",
    "X_reshape = X_scaled.reshape(X_scaled.shape[0], X_scaled.shape[1], 1)\n"
   ]
  },
  {
   "attachments": {},
   "cell_type": "markdown",
   "metadata": {},
   "source": [
    "# nn model"
   ]
  },
  {
   "cell_type": "code",
   "execution_count": 7,
   "metadata": {},
   "outputs": [
    {
     "name": "stdout",
     "output_type": "stream",
     "text": [
      "Model: \"sequential_8\"\n",
      "_________________________________________________________________\n",
      " Layer (type)                Output Shape              Param #   \n",
      "=================================================================\n",
      " lstm_4 (LSTM)               (None, 6, 64)             16896     \n",
      "                                                                 \n",
      " lstm_5 (LSTM)               (None, 64)                33024     \n",
      "                                                                 \n",
      " dense_22 (Dense)            (None, 50)                3250      \n",
      "                                                                 \n",
      " dropout_5 (Dropout)         (None, 50)                0         \n",
      "                                                                 \n",
      " dense_23 (Dense)            (None, 1)                 51        \n",
      "                                                                 \n",
      "=================================================================\n",
      "Total params: 53,221\n",
      "Trainable params: 53,221\n",
      "Non-trainable params: 0\n",
      "_________________________________________________________________\n"
     ]
    }
   ],
   "source": [
    "# import tensorflow as tf\n",
    "# from tensorflow.keras.models import Sequential\n",
    "# from tensorflow.keras.layers import Dense\n",
    "\n",
    "mlp_model = Sequential([\n",
    "    Dense(64, activation='relu', input_shape=(X_train.shape[1],)),\n",
    "    Dense(256, activation='relu'), # relu\n",
    "    Dense(512, activation='relu'), # relu\n",
    "    Dense(1)\n",
    "])\n",
    "\n",
    "cnn_model = Sequential([\n",
    "    Conv1D(filters=64, kernel_size=2, activation='relu', input_shape=(X_train.shape[1], 1)),\n",
    "    MaxPooling1D(pool_size=2),\n",
    "    # Conv1D(filters=128, kernel_size=2, activation='relu'),\n",
    "    # MaxPooling1D(pool_size=2),\n",
    "    Flatten(),\n",
    "    Dense(64, activation='relu'),\n",
    "    Dropout(0.5),\n",
    "    Dense(1)\n",
    "])\n",
    "\n",
    "lstm_model = Sequential([\n",
    "    LSTM(64, return_sequences=True, input_shape=(X_train.shape[1], 1)),\n",
    "    LSTM(64, return_sequences=False),\n",
    "    Dense(50, activation='relu'),\n",
    "    Dropout(0.5),\n",
    "    Dense(1)\n",
    "])\n",
    "\n",
    "\n",
    "# mlp_model = Sequential([\n",
    "#     Conv1D(filters=64, kernel_size=2, activation='relu', input_shape=(X_train.shape[1], 1)),\n",
    "#     MaxPooling1D(pool_size=2),\n",
    "#     Flatten(),\n",
    "#     Dense(50, activation='relu'),\n",
    "#     Dropout(0.5),\n",
    "#     Dense(1)\n",
    "# ])\n",
    "\n",
    "\n",
    "#  model info\n",
    "# mlp_model.compile(optimizer='adam', loss='mean_squared_error')\n",
    "# cnn_model.compile(optimizer='adam', loss='mean_squared_error')\n",
    "lstm_model.compile(optimizer='adam', loss='mean_squared_error')\n",
    "lstm_model.summary()\n",
    "\n"
   ]
  },
  {
   "cell_type": "code",
   "execution_count": 8,
   "metadata": {},
   "outputs": [
    {
     "name": "stdout",
     "output_type": "stream",
     "text": [
      "Epoch 1/50\n",
      "5000/5000 [==============================] - 150s 29ms/step - loss: 0.5707 - val_loss: 0.4173\n",
      "Epoch 2/50\n",
      "4278/5000 [========================>.....] - ETA: 15s - loss: 0.3949"
     ]
    }
   ],
   "source": [
    "log_dir = \"logs/\" + datetime.datetime.now().strftime(\"%Y%m%d-%H%M%S\")\n",
    "tensorboard_callback = TensorBoard(log_dir=log_dir, histogram_freq=1)\n",
    "\n",
    "result = lstm_model.fit(X_train, y_train, epochs=50, batch_size=32, validation_split=0.2, callbacks=[tensorboard_callback])"
   ]
  },
  {
   "cell_type": "code",
   "execution_count": 9,
   "metadata": {},
   "outputs": [
    {
     "name": "stdout",
     "output_type": "stream",
     "text": [
      "1563/1563 [==============================] - 10s 7ms/step\n",
      "Mean Absolute Error: 0.003953590834004811\n",
      "Mean Squared Error: 5.796068302320115e-05\n",
      "R-squared: 0.016532022132527024\n"
     ]
    }
   ],
   "source": [
    "# evaluation\n",
    "y_pred = lstm_model.predict(X_test)\n",
    "# predicted_power = mlp_model.predict(X_reshape)\n",
    "\n",
    "# inverse scaler\n",
    "y_test_original = scaler2.inverse_transform(y_test.reshape(-1, 1)).flatten()\n",
    "y_pred_original = scaler2.inverse_transform(y_pred).flatten()\n",
    "\n",
    "# evaluation calculation\n",
    "mae = mean_absolute_error(y_test_original, y_pred_original)\n",
    "mse = mean_squared_error(y_test_original, y_pred_original)\n",
    "r2 = r2_score(y_test_original, y_pred_original)\n",
    "\n",
    "print(f'Mean Absolute Error: {mae}')\n",
    "print(f'Mean Squared Error: {mse}')\n",
    "print(f'R-squared: {r2}')\n"
   ]
  },
  {
   "cell_type": "code",
   "execution_count": 10,
   "metadata": {},
   "outputs": [
    {
     "name": "stdout",
     "output_type": "stream",
     "text": [
      "7813/7813 [==============================] - 29s 4ms/step\n"
     ]
    }
   ],
   "source": [
    "predicted_power = lstm_model.predict(X_reshape)\n",
    "\n",
    "# inverse scaler\n",
    "pre_ori = scaler2.inverse_transform(predicted_power).flatten()"
   ]
  },
  {
   "cell_type": "code",
   "execution_count": 12,
   "metadata": {},
   "outputs": [
    {
     "ename": "TypeError",
     "evalue": "'History' object is not subscriptable",
     "output_type": "error",
     "traceback": [
      "\u001b[0;31m---------------------------------------------------------------------------\u001b[0m",
      "\u001b[0;31mTypeError\u001b[0m                                 Traceback (most recent call last)",
      "Cell \u001b[0;32mIn[12], line 4\u001b[0m\n\u001b[1;32m      1\u001b[0m \u001b[39mimport\u001b[39;00m \u001b[39mmatplotlib\u001b[39;00m\u001b[39m.\u001b[39;00m\u001b[39mpyplot\u001b[39;00m \u001b[39mas\u001b[39;00m \u001b[39mplt\u001b[39;00m\n\u001b[1;32m      3\u001b[0m \u001b[39m# Training history visualization\u001b[39;00m\n\u001b[0;32m----> 4\u001b[0m plt\u001b[39m.\u001b[39mplot(cnn_model\u001b[39m.\u001b[39;49mhistory[\u001b[39m'\u001b[39;49m\u001b[39mloss\u001b[39;49m\u001b[39m'\u001b[39;49m], label\u001b[39m=\u001b[39m\u001b[39m'\u001b[39m\u001b[39mtrain\u001b[39m\u001b[39m'\u001b[39m)\n\u001b[1;32m      5\u001b[0m plt\u001b[39m.\u001b[39mplot(cnn_model\u001b[39m.\u001b[39mhistory[\u001b[39m'\u001b[39m\u001b[39mval_loss\u001b[39m\u001b[39m'\u001b[39m], label\u001b[39m=\u001b[39m\u001b[39m'\u001b[39m\u001b[39mvalidation\u001b[39m\u001b[39m'\u001b[39m)\n\u001b[1;32m      6\u001b[0m plt\u001b[39m.\u001b[39mlegend()\n",
      "\u001b[0;31mTypeError\u001b[0m: 'History' object is not subscriptable"
     ]
    }
   ],
   "source": [
    "import matplotlib.pyplot as plt\n",
    "\n",
    "# Training history visualization\n",
    "plt.plot(cnn_model.history['loss'], label='train')\n",
    "plt.plot(cnn_model.history['val_loss'], label='validation')\n",
    "plt.legend()\n",
    "plt.title('Training and Validation Loss')\n",
    "plt.show()"
   ]
  },
  {
   "cell_type": "code",
   "execution_count": 13,
   "metadata": {},
   "outputs": [
    {
     "data": {
      "image/png": "[encoded data removed]",
      "text/plain": [
       "<Figure size 640x480 with 1 Axes>"
      ]
     },
     "metadata": {},
     "output_type": "display_data"
    }
   ],
   "source": [
    "import matplotlib.pyplot as plt\n",
    "\n",
    "# Prediction result visualization\n",
    "plt.scatter(y_test_original, y_pred_original, alpha=0.5)\n",
    "plt.xlabel('Actual Power')\n",
    "plt.ylabel('Predicted Power')\n",
    "plt.title('Actual vs Predicted Power')\n",
    "plt.axis('equal')\n",
    "plt.show()"
   ]
  },
  {
   "attachments": {},
   "cell_type": "markdown",
   "metadata": {},
   "source": [
    "### CSV import"
   ]
  },
  {
   "cell_type": "code",
   "execution_count": 47,
   "metadata": {},
   "outputs": [],
   "source": [
    "import pandas as pd\n",
    "results = pd.DataFrame({\n",
    "    'Actual Power': y,\n",
    "    'Predicted Power': pre_ori\n",
    "})\n",
    "results.to_csv('./Result/mlp_model.csv', index=False)"
   ]
  },
  {
   "cell_type": "code",
   "execution_count": null,
   "metadata": {},
   "outputs": [],
   "source": []
  },
  {
   "attachments": {},
   "cell_type": "markdown",
   "metadata": {},
   "source": [
    "# MLP model"
   ]
  },
  {
   "cell_type": "code",
   "execution_count": 6,
   "metadata": {},
   "outputs": [
    {
     "name": "stdout",
     "output_type": "stream",
     "text": [
      "2.6399088039722796e-05\n"
     ]
    }
   ],
   "source": [
    "from sklearn.neural_network import MLPRegressor\n",
    "\n",
    "mlp = MLPRegressor(hidden_layer_sizes=(100,), max_iter=1000, alpha=0.001,\n",
    "                   solver='adam', random_state=42, learning_rate_init=0.001) # adam\n",
    "\n",
    "\n",
    "mlp.fit(X_train_scaled, y_train)\n",
    "y_pred = mlp.predict(X_test_scaled)\n",
    "mse = mean_squared_error(y_test, y_pred)\n",
    "print(mse)\n",
    "predicted_power = mlp.predict(X)\n"
   ]
  },
  {
   "cell_type": "code",
   "execution_count": 7,
   "metadata": {},
   "outputs": [],
   "source": [
    "y_pred = mlp.predict(X_test_scaled)"
   ]
  },
  {
   "cell_type": "code",
   "execution_count": 8,
   "metadata": {},
   "outputs": [
    {
     "name": "stdout",
     "output_type": "stream",
     "text": [
      "2.6399088039722796e-05\n"
     ]
    }
   ],
   "source": [
    "mse = mean_squared_error(y_test, y_pred)\n",
    "print(mse)"
   ]
  },
  {
   "cell_type": "code",
   "execution_count": null,
   "metadata": {},
   "outputs": [],
   "source": []
  },
  {
   "attachments": {},
   "cell_type": "markdown",
   "metadata": {},
   "source": [
    "# RF_model"
   ]
  },
  {
   "cell_type": "code",
   "execution_count": 40,
   "metadata": {},
   "outputs": [
    {
     "name": "stdout",
     "output_type": "stream",
     "text": [
      "Random Forest accuracy: 0.80\n"
     ]
    }
   ],
   "source": [
    "from sklearn.ensemble import RandomForestRegressor\n",
    "\n",
    "rf_model = RandomForestRegressor(n_estimators=100, random_state=42)\n",
    "\n",
    "rf_model.fit(X_train_scaled, y_train)\n",
    "\n",
    "rf_accuracy = rf_model.score(X_test_scaled, y_test)\n",
    "print(f\"Random Forest accuracy: {rf_accuracy:.2f}\")\n"
   ]
  },
  {
   "attachments": {},
   "cell_type": "markdown",
   "metadata": {},
   "source": [
    "# LASSO model"
   ]
  },
  {
   "cell_type": "code",
   "execution_count": null,
   "metadata": {},
   "outputs": [],
   "source": []
  },
  {
   "attachments": {},
   "cell_type": "markdown",
   "metadata": {},
   "source": [
    "# Evaluation"
   ]
  },
  {
   "cell_type": "code",
   "execution_count": 74,
   "metadata": {},
   "outputs": [
    {
     "name": "stdout",
     "output_type": "stream",
     "text": [
      "7813/7813 [==============================] - 26s 3ms/step\n"
     ]
    }
   ],
   "source": [
    "predicted_power = model.predict(X)"
   ]
  },
  {
   "cell_type": "code",
   "execution_count": 50,
   "metadata": {},
   "outputs": [],
   "source": [
    "predicted_power = rf_model.predict(X)"
   ]
  },
  {
   "cell_type": "code",
   "execution_count": 122,
   "metadata": {},
   "outputs": [],
   "source": [
    "predicted_power = mlp.predict(X)"
   ]
  },
  {
   "cell_type": "code",
   "execution_count": 1,
   "metadata": {},
   "outputs": [],
   "source": [
    "import torch\n",
    "import torch.nn as nn\n",
    "from torch.nn import functional as F\n",
    "from torch.autograd import Variable\n",
    "\n",
    "class MLP_5(nn.Module):\n",
    "    def __init__(self):\n",
    "        super(MLP_5, self).__init__()\n",
    "        self.fc1 = nn.Linear(5, 4)\n",
    "        self.fc2 = nn.Linear(4, 3)\n",
    "        self.fc3 = nn.Linear(3, 2)\n",
    "        self.fc4 = nn.Linear(2, 1)\n",
    "        self.activate = nn.Sigmoid()\n",
    "        self.dropout = nn.Dropout(0.2)\n",
    "\n",
    "    def forward(self, x):\n",
    "        x = F.relu(self.fc1(x))\n",
    "        x = self.dropout(x)\n",
    "        x = F.relu(self.fc2(x))\n",
    "        x = self.dropout(x)\n",
    "        x = F.relu(self.fc3(x))\n",
    "        x = self.dropout(x)\n",
    "        x = self.fc4(x)\n",
    "        # x = self.nn.Sigmoid(x)\n",
    "        x = self.activate(x)\n",
    "        return x\n"
   ]
  },
  {
   "cell_type": "code",
   "execution_count": 2,
   "metadata": {},
   "outputs": [
    {
     "ename": "NameError",
     "evalue": "name 'X' is not defined",
     "output_type": "error",
     "traceback": [
      "\u001b[0;31m---------------------------------------------------------------------------\u001b[0m",
      "\u001b[0;31mNameError\u001b[0m                                 Traceback (most recent call last)",
      "Cell \u001b[0;32mIn[2], line 1\u001b[0m\n\u001b[0;32m----> 1\u001b[0m (X[:,\u001b[39m2\u001b[39m])\n",
      "\u001b[0;31mNameError\u001b[0m: name 'X' is not defined"
     ]
    }
   ],
   "source": [
    "(X[:,2])"
   ]
  },
  {
   "attachments": {},
   "cell_type": "markdown",
   "metadata": {},
   "source": [
    "# Visualization"
   ]
  },
  {
   "cell_type": "code",
   "execution_count": 25,
   "metadata": {},
   "outputs": [
    {
     "data": {
      "image/png": "[encoded data removed]",
      "text/plain": [
       "<Figure size 2000x500 with 1 Axes>"
      ]
     },
     "metadata": {},
     "output_type": "display_data"
    }
   ],
   "source": [
    "import matplotlib.pyplot as plt\n",
    "import numpy as np\n",
    "\n",
    "plt.figure(figsize=(20,5))\n",
    "# plt.plot(y_test_original[:], label='Groundtruth')\n",
    "# plt.plot(y_pred_original[:], label='Predicted')\n",
    "plt.plot(y, label='Groundtruth')\n",
    "plt.plot(pre_ori, label='Predicted')\n",
    "plt.title(f'Level2 Plot(MSE: {mse})')\n",
    "plt.xlabel('X Axis')\n",
    "plt.ylabel('Y Axis')\n",
    "plt.legend()\n",
    "plt.grid(True)\n",
    "plt.show()\n"
   ]
  },
  {
   "cell_type": "code",
   "execution_count": 27,
   "metadata": {},
   "outputs": [
    {
     "data": {
      "text/plain": [
       "array([0.00019084, 0.00017517, 0.0001595 , ..., 0.00187326, 0.00208097,\n",
       "       0.002629  ], dtype=float32)"
      ]
     },
     "execution_count": 27,
     "metadata": {},
     "output_type": "execute_result"
    }
   ],
   "source": [
    "pre_ori"
   ]
  },
  {
   "cell_type": "code",
   "execution_count": null,
   "metadata": {},
   "outputs": [],
   "source": []
  },
  {
   "cell_type": "code",
   "execution_count": null,
   "metadata": {},
   "outputs": [],
   "source": [
    "# for MLP_19, MLP_32\n",
    "# X_train = df.drop(['Hosp No','target'], axis=1)\n",
    "# Y_train = df[['target']]\n",
    "# X_validation = df_val.drop(['Hosp No','target'], axis=1)\n",
    "# Y_validation = df_val[['target']]\n",
    "\n",
    "Scaler1 = StandardScaler()\n",
    "Scaler2 = StandardScaler()\n",
    "\n",
    "x_train = pd.DataFrame(Scaler1.fit_transform(X_train)).values\n",
    "y_train  = pd.DataFrame((Y_train)).values\n",
    "\n",
    "x_validation = pd.DataFrame(Scaler2.fit_transform(X_validation)).values\n",
    "y_validation  = pd.DataFrame((Y_validation)).values\n",
    "\n",
    "seed = 1988\n",
    "\n",
    "import torch\n",
    "import torch.nn as nn\n",
    "from torch.nn import functional as F\n",
    "from torch.autograd import Variable\n",
    "\n",
    "class MLP_5(nn.Module):\n",
    "    def __init__(self):\n",
    "        super(MLP_5, self).__init__()\n",
    "        self.fc1 = nn.Linear(5, 4)\n",
    "        self.fc2 = nn.Linear(4, 3)\n",
    "        self.fc3 = nn.Linear(3, 2)\n",
    "        self.fc4 = nn.Linear(2, 1)\n",
    "        self.activate = nn.Sigmoid()\n",
    "        self.dropout = nn.Dropout(0.2)\n",
    "\n",
    "    def forward(self, x):\n",
    "        x = F.relu(self.fc1(x))\n",
    "        x = self.dropout(x)\n",
    "        x = F.relu(self.fc2(x))\n",
    "        x = self.dropout(x)\n",
    "        x = F.relu(self.fc3(x))\n",
    "        x = self.dropout(x)\n",
    "        x = self.fc4(x)\n",
    "        # x = self.nn.Sigmoid(x)\n",
    "        x = self.activate(x)\n",
    "        return x\n",
    "\n",
    "class MLP_19(nn.Module):\n",
    "    def __init__(self):\n",
    "        super(MLP_19, self).__init__()\n",
    "        self.fc1 = nn.Linear(19, 16)\n",
    "        self.fc2 = nn.Linear(16, 14)\n",
    "        self.fc3 = nn.Linear(14, 10)\n",
    "        self.fc4 = nn.Linear(10, 6)\n",
    "        self.fc5 = nn.Linear(6, 3)\n",
    "        self.fc6 = nn.Linear(3, 1)\n",
    "        self.activate = nn.Sigmoid()\n",
    "        self.dropout = nn.Dropout(0.2)\n",
    "        \n",
    "    def forward(self, x):\n",
    "        x = F.relu(self.fc1(x))\n",
    "        x = self.dropout(x)\n",
    "        x = F.relu(self.fc2(x))\n",
    "        x = self.dropout(x)\n",
    "        x = F.relu(self.fc3(x))\n",
    "        x = self.dropout(x)\n",
    "        x = F.relu(self.fc4(x))\n",
    "        x = self.dropout(x)\n",
    "        x = F.relu(self.fc5(x))\n",
    "        x = self.dropout(x)\n",
    "        x = self.fc6(x)\n",
    "        \n",
    "        x = self.activate(x)\n",
    "        return x    \n",
    "\n",
    "class MLP_36(nn.Module):\n",
    "    def __init__(self):\n",
    "        super(MLP_36, self).__init__()\n",
    "        self.fc1 = nn.Linear(19, 36)\n",
    "        self.fc2 = nn.Linear(36, 72)\n",
    "        self.fc3 = nn.Linear(72, 144)\n",
    "        self.fc4 = nn.Linear(144, 72)\n",
    "        self.fc5 = nn.Linear(72, 36)\n",
    "        self.fc6 = nn.Linear(36, 1)\n",
    "        self.activate = nn.Sigmoid()\n",
    "        self.dropout = nn.Dropout(0.2)\n",
    "        \n",
    "    def forward(self, x):\n",
    "        x = F.relu(self.fc1(x))\n",
    "        x = self.dropout(x)\n",
    "        x = F.relu(self.fc2(x))\n",
    "        x = self.dropout(x)\n",
    "        x = F.relu(self.fc3(x))\n",
    "        x = self.dropout(x)\n",
    "        x = F.relu(self.fc4(x))\n",
    "        x = self.dropout(x)\n",
    "        x = F.relu(self.fc5(x))\n",
    "        x = self.dropout(x)\n",
    "        x = self.fc6(x)\n",
    "        \n",
    "        x = self.activate(x)\n",
    "        return x    \n",
    "\n",
    "# model = MLP_5()\n",
    "# optimizer = torch.optim.SGD(model.parameters(), lr=0.01)\n",
    "# model = MLP_19()\n",
    "# model = MLP_36()\n",
    "# print(model)\n",
    "\n",
    "\n",
    "# criterion = nn.BinaryCrossEntropyWithLogits()\n",
    "criterion = nn.BCELoss()\n",
    "# criterion = nn.CrossEntropyLoss()\n",
    "# torch.nn.functional.binary_cross_entropy\n",
    "\n",
    "\n",
    "kfold = KFold(n_splits=5, random_state=seed, shuffle=True)\n",
    "torch.manual_seed(seed)\n",
    "\n",
    "# from sklearn.neural_network import MLPClassifier\n",
    "minimum_epoch = 2000\n",
    "n_epochs = 10000\n",
    "beta = 0.4\n",
    "\n",
    "\n",
    "# print(\"Model info. \", model)\n",
    "\n",
    "\n",
    "for fold_n, (train_idx, val_idx) in enumerate(kfold.split(X_train)):\n",
    "\n",
    "    # Initial setting\n",
    "    print(\"\")\n",
    "    print(f\"Training fold number: {fold_n}\")\n",
    "    train_loss = 0\n",
    "    train_loss_min = np.Inf\n",
    "\n",
    "    validation_loss = 0\n",
    "    validation_loss_min = np.Inf\n",
    "\n",
    "    train_acc_max = 0\n",
    "    train_precision_max = 0\n",
    "    train_recall_max = 0\n",
    "    train_f1_max = 0\n",
    "    train_rocauc_max = 0\n",
    "\n",
    "    best_epoch = 0\n",
    "    validation_acc_best = 0\n",
    "    validation_precision_best = 0\n",
    "    validation_recall_best = 0\n",
    "    validation_f1_best = 0\n",
    "    validation_rocauc_best = 0\n",
    "\n",
    "    model = MLP_5()\n",
    "    optimizer = torch.optim.SGD(model.parameters(), lr=0.01)\n",
    "\n",
    "\n",
    "    for epoch in range(n_epochs):\n",
    "        train_features = X_train.iloc[train_idx]\n",
    "        train_target = Y_train.iloc[train_idx]\n",
    "        val_features = X_train.iloc[val_idx]\n",
    "        val_target = Y_train.iloc[val_idx]\n",
    "        \n",
    "        train_features = Variable(torch.FloatTensor(pd.DataFrame(Scaler1.fit_transform(train_features)).values))\n",
    "        train_target = Variable(torch.FloatTensor(pd.DataFrame((train_target)).values))\n",
    "        val_features = Variable(torch.FloatTensor(pd.DataFrame(Scaler1.fit_transform(val_features)).values))\n",
    "        val_target = Variable(torch.FloatTensor(pd.DataFrame((val_target)).values))\n",
    "\n",
    "\n",
    "        # Training\n",
    "\n",
    "        optimizer.zero_grad()\n",
    "        output = model(train_features)\n",
    "        loss = criterion(output,train_target)\n",
    "        loss.backward()\n",
    "        optimizer.step()\n",
    "\n",
    "        # beta = torch.mean(output)\n",
    "        # values, labels = torch.max(output, 1)\n",
    "        output[output>=beta] = 1\n",
    "        output[output<beta] = 0\n",
    "        \n",
    "        # output_A = np.squeeze(train_target)\n",
    "        output_A = train_target.data.numpy()\n",
    "        output_B = output.data.numpy()\n",
    "\n",
    "        train_loss = loss.item()\n",
    "\n",
    "        train_acc = accuracy_score(output_A, output_B)\n",
    "        train_precision = precision_score(output_A, output_B, zero_division=0)\n",
    "        train_recall = recall_score(output_A, output_B, zero_division=0)\n",
    "        train_f1 = f1_score(output_A, output_B, zero_division=0)\n",
    "        train_rocauc = roc_auc_score(output_A, output_B)\n",
    "\n",
    "\n",
    "        # Validation\n",
    "\n",
    "        with torch.no_grad():\n",
    "            output_val = model(val_features)\n",
    "        loss_val = criterion(output_val, val_target)\n",
    "\n",
    "        # output_origin = output_val\n",
    "\n",
    "        output_val[output_val>=beta] = 1\n",
    "        output_val[output_val<beta] = 0\n",
    "\n",
    "        output_val_A = val_target.data.numpy()\n",
    "        output_val_B = output_val.data.numpy()\n",
    "\n",
    "        validation_loss = loss_val.item()\n",
    "\n",
    "        validation_acc = accuracy_score(output_val_A, output_val_B)\n",
    "        validation_precision = precision_score(output_val_A, output_val_B, zero_division=0)\n",
    "        validation_recall = recall_score(output_val_A, output_val_B, zero_division=0)\n",
    "        validation_f1 = f1_score(output_val_A, output_val_B, zero_division=0)\n",
    "        validation_rocauc = roc_auc_score(output_val_A, output_val_B)\n",
    "\n",
    "        # validation_roc_curve = roc_curve(output_val_A, output_origin)\n",
    "\n",
    "\n",
    "        # Scoring\n",
    "        \n",
    "        if train_loss <= train_loss_min:\n",
    "            print(\"||Epoch: {:5}|| Train loss decreased ({:6f} ===> {:6f}). No saving the model...\".format(epoch+1,train_loss_min,train_loss))\n",
    "            train_loss_min = train_loss\n",
    "            train_acc_max = train_acc\n",
    "            train_precision_max = train_precision\n",
    "            train_recall_max = train_recall\n",
    "            train_f1_max = train_f1\n",
    "            train_rocauc_max = train_rocauc\n",
    "        \n",
    "        if minimum_epoch <= epoch:\n",
    "\n",
    "            if validation_loss <= validation_loss_min: # if validation_loss <= validation_loss_min: # if validation_f1_best < validation_f1:\n",
    "\n",
    "                best_epoch = epoch+1\n",
    "\n",
    "                validation_loss_min = validation_loss\n",
    "                validation_acc_best = validation_acc\n",
    "                validation_precision_best = validation_precision\n",
    "                validation_recall_best = validation_recall\n",
    "                validation_f1_best = validation_f1\n",
    "                validation_rocauc_best = validation_rocauc\n",
    "\n",
    "                with torch.no_grad():\n",
    "                    output_v = model(val_features)\n",
    "\n",
    "                # validation_roc_curve_best = validation_roc_curve\n",
    "\n",
    "            if epoch % 500 == 0:\n",
    "                # print(f\"======== FOLD: {fold_n} ========\")\n",
    "                # print(np.unique(validation_roc_curve))\n",
    "                print(f\"Fold: {fold_n}, Epoch: {epoch+1}, Train Loss: {train_loss}, Passing rate: {train_acc}, Precision: {train_precision}, Recall: {train_recall}, F1-Score: {train_f1}, roc-auc: {train_rocauc}\")\n",
    "                print(f\"Epoch: {epoch+1}, Validation Loss: {validation_loss}, Passing rate: {validation_acc}, Precision: {validation_precision}, Recall: {validation_recall}, F1-Score: {validation_f1}, roc-auc: {validation_rocauc}\")\n",
    "\n",
    "    print(\"\")\n",
    "    print(\"\")\n",
    "    print(f'Fold {fold_n}, Training Ended!!')\n",
    "    print(f'||Final score(train)|| Loss: {train_loss_min}, Accuracy(Passing rate): {train_acc_max}, Precision: {train_precision_max}, Recall: {train_recall_max}, F1-Score: {train_f1_max}, roc-auc: {train_rocauc_max}')\n",
    "    print(f'||Final score(validation)|| Best epoch: {best_epoch}, Loss: {validation_loss_min}, Accuracy(Passing rate): {validation_acc_best}, Precision: {validation_precision_best}, Recall: {validation_recall_best}, F1-Score: {validation_f1_best}, roc-auc: {validation_rocauc_best}')\n",
    "    # print(validation_roc_curve_best)\n",
    "    # with torch.no_grad():\n",
    "    #     output_v = model(val_features)\n",
    "\n",
    "    print(roc_curve(val_target, output_v))\n",
    "\n"
   ]
  }
 ],
 "metadata": {
  "kernelspec": {
   "display_name": "base",
   "language": "python",
   "name": "python3"
  },
  "language_info": {
   "codemirror_mode": {
    "name": "ipython",
    "version": 3
   },
   "file_extension": ".py",
   "mimetype": "text/x-python",
   "name": "python",
   "nbconvert_exporter": "python",
   "pygments_lexer": "ipython3",
   "version": "3.10.9"
  },
  "orig_nbformat": 4
 },
 "nbformat": 4,
 "nbformat_minor": 2
}
